{
 "cells": [
  {
   "cell_type": "markdown",
   "id": "b8e2a3fb-cc4d-4f8d-8f78-97415e849416",
   "metadata": {},
   "source": [
    "# Lesson 3: Preparing Text Data for RAG"
   ]
  },
  {
   "cell_type": "markdown",
   "id": "fafb0f88-0b26-4cdf-9b55-7ce191652155",
   "metadata": {},
   "source": [
    "<p style=\"background-color:#fd4a6180; padding:15px; margin-left:20px\"> <b>Note:</b> This notebook takes about 30 seconds to be ready to use. Please wait until the \"Kernel starting, please wait...\" message clears from the top of the notebook before running any cells. You may start the video while you wait.</p>\n"
   ]
  },
  {
   "cell_type": "markdown",
   "id": "9fb43372-7cff-4dc6-8c47-2885aac4c09a",
   "metadata": {},
   "source": [
    "### Import packages and set up Neo4j"
   ]
  },
  {
   "cell_type": "code",
   "execution_count": 1,
   "id": "e854e1a7-6c56-48e9-b3f0-999b68940726",
   "metadata": {
    "height": 149
   },
   "outputs": [],
   "source": [
    "from dotenv import load_dotenv\n",
    "import os\n",
    "\n",
    "from langchain_community.graphs import Neo4jGraph\n",
    "\n",
    "# Warning control\n",
    "import warnings\n",
    "warnings.filterwarnings(\"ignore\")"
   ]
  },
  {
   "cell_type": "code",
   "execution_count": 2,
   "id": "45e2bd85-1d15-4e91-9e6d-c1b647d8e97d",
   "metadata": {
    "height": 217
   },
   "outputs": [],
   "source": [
    "# Load from environment\n",
    "load_dotenv('.env', override=True)\n",
    "NEO4J_URI = os.getenv('NEO4J_URI')\n",
    "NEO4J_USERNAME = os.getenv('NEO4J_USERNAME')\n",
    "NEO4J_PASSWORD = os.getenv('NEO4J_PASSWORD')\n",
    "NEO4J_DATABASE = os.getenv('NEO4J_DATABASE')\n",
    "OPENAI_API_KEY = os.getenv('OPENAI_API_KEY')\n",
    "\n",
    "# Note the code below is unique to this course environment, and not a \n",
    "# standard part of Neo4j's integration with OpenAI. Remove if running \n",
    "# in your own environment.\n",
    "OPENAI_ENDPOINT = os.getenv('OPENAI_BASE_URL') + '/embeddings'"
   ]
  },
  {
   "cell_type": "code",
   "execution_count": 3,
   "id": "0c277dd6-23b9-42d0-9d2a-c6aa9948dad9",
   "metadata": {
    "height": 81
   },
   "outputs": [],
   "source": [
    "# Connect to the knowledge graph instance using LangChain\n",
    "kg = Neo4jGraph(\n",
    "    url=NEO4J_URI, username=NEO4J_USERNAME, password=NEO4J_PASSWORD, database=NEO4J_DATABASE\n",
    ")"
   ]
  },
  {
   "cell_type": "markdown",
   "id": "b4478433-1ab7-4ad6-ba51-73d54e45d798",
   "metadata": {},
   "source": [
    "### Create a vector index "
   ]
  },
  {
   "cell_type": "code",
   "execution_count": 4,
   "id": "a26f80f6-d21a-447f-a5e2-eb940c0a25e4",
   "metadata": {
    "height": 166
   },
   "outputs": [
    {
     "data": {
      "text/plain": [
       "[]"
      ]
     },
     "execution_count": 4,
     "metadata": {},
     "output_type": "execute_result"
    }
   ],
   "source": [
    "kg.query(\"\"\"\n",
    "  CREATE VECTOR INDEX movie_tagline_embeddings IF NOT EXISTS\n",
    "  FOR (m:Movie) ON (m.taglineEmbedding) \n",
    "  OPTIONS { indexConfig: {\n",
    "    `vector.dimensions`: 1536,\n",
    "    `vector.similarity_function`: 'cosine'\n",
    "  }}\"\"\"\n",
    ")\n"
   ]
  },
  {
   "cell_type": "code",
   "execution_count": 5,
   "id": "9472ede6-18da-4d13-a5de-0dbad618c0f3",
   "metadata": {
    "height": 81
   },
   "outputs": [
    {
     "data": {
      "text/plain": [
       "[{'id': 3,\n",
       "  'name': 'movie_tagline_embeddings',\n",
       "  'state': 'ONLINE',\n",
       "  'populationPercent': 100.0,\n",
       "  'type': 'VECTOR',\n",
       "  'entityType': 'NODE',\n",
       "  'labelsOrTypes': ['Movie'],\n",
       "  'properties': ['taglineEmbedding'],\n",
       "  'indexProvider': 'vector-1.0',\n",
       "  'owningConstraint': None,\n",
       "  'lastRead': None,\n",
       "  'readCount': None}]"
      ]
     },
     "execution_count": 5,
     "metadata": {},
     "output_type": "execute_result"
    }
   ],
   "source": [
    "kg.query(\"\"\"\n",
    "  SHOW VECTOR INDEXES\n",
    "  \"\"\"\n",
    ")"
   ]
  },
  {
   "cell_type": "code",
   "execution_count": null,
   "id": "569049b5-6ad7-4348-81f8-068bde0f185c",
   "metadata": {
    "height": 30
   },
   "outputs": [],
   "source": []
  },
  {
   "cell_type": "markdown",
   "id": "ebe87478-723a-49e4-a197-b4cccd7153b0",
   "metadata": {},
   "source": [
    "### Populate the vector index\n",
    "- Calculate vector representation for each movie tagline using OpenAI\n",
    "- Add vector to the `Movie` node as `taglineEmbedding` property"
   ]
  },
  {
   "cell_type": "code",
   "execution_count": 28,
   "id": "5921f75b-706d-414a-b7a0-b81623a71a23",
   "metadata": {
    "height": 217
   },
   "outputs": [
    {
     "data": {
      "text/plain": [
       "[{'movie.tagline': 'Welcome to the Real World'},\n",
       " {'movie.tagline': 'Free your mind'},\n",
       " {'movie.tagline': 'Everything that has a beginning has an end'},\n",
       " {'movie.tagline': 'Evil has its winning ways'},\n",
       " {'movie.tagline': \"In the heart of the nation's capital, in a courthouse of the U.S. government, one man will stop at nothing to keep his honor, and one will stop at nothing to find the truth.\"},\n",
       " {'movie.tagline': 'I feel the need, the need for speed.'},\n",
       " {'movie.tagline': 'The rest of his life begins now.'},\n",
       " {'movie.tagline': \"For some, it's the last real taste of innocence, and the first real taste of life. But for everyone, it's the time that memories are made of.\"}]"
      ]
     },
     "execution_count": 28,
     "metadata": {},
     "output_type": "execute_result"
    }
   ],
   "source": [
    "kg.query(\"\"\"\n",
    "    MATCH (movie:Movie) WHERE movie.tagline IS NOT NULL\n",
    "    WITH movie, genai.vector.encode(\n",
    "        movie.tagline, \n",
    "        \"OpenAI\", \n",
    "        {\n",
    "          token: $openAiApiKey,\n",
    "          endpoint: $openAiEndpoint\n",
    "        }) AS vector\n",
    "    CALL db.create.setNodeVectorProperty(\n",
    "        movie, \"taglineEmbedding\", vector)\n",
    "    RETURN movie.tagline\n",
    "    limit 8\"\"\", \n",
    "    params={\"openAiApiKey\":OPENAI_API_KEY, \"openAiEndpoint\": OPENAI_ENDPOINT} )\n"
   ]
  },
  {
   "cell_type": "code",
   "execution_count": 17,
   "id": "73efe0c6-d3e9-4815-9154-04f177101f17",
   "metadata": {
    "height": 132
   },
   "outputs": [],
   "source": [
    "result = kg.query(\"\"\"\n",
    "    MATCH (m:Movie) \n",
    "    WHERE m.tagline IS NOT NULL\n",
    "    RETURN m.tagline, m.taglineEmbedding\n",
    "    LIMIT 2\n",
    "    \"\"\"\n",
    ")"
   ]
  },
  {
   "cell_type": "code",
   "execution_count": 18,
   "id": "eb877bc2",
   "metadata": {
    "height": 30
   },
   "outputs": [
    {
     "data": {
      "text/plain": [
       "2"
      ]
     },
     "execution_count": 18,
     "metadata": {},
     "output_type": "execute_result"
    }
   ],
   "source": [
    "len(result)"
   ]
  },
  {
   "cell_type": "code",
   "execution_count": 19,
   "id": "71f4fe0b-01da-493f-862b-36a60842d648",
   "metadata": {
    "height": 30
   },
   "outputs": [
    {
     "data": {
      "text/plain": [
       "'Free your mind'"
      ]
     },
     "execution_count": 19,
     "metadata": {},
     "output_type": "execute_result"
    }
   ],
   "source": [
    "result[1]['m.tagline']"
   ]
  },
  {
   "cell_type": "code",
   "execution_count": 20,
   "id": "93c3fe17-7310-4e11-84c3-4955c8ed8f1a",
   "metadata": {
    "height": 30
   },
   "outputs": [
    {
     "data": {
      "text/plain": [
       "[-8.827752753859386e-05,\n",
       " -0.0005099594709463418,\n",
       " -0.0007034335867501795,\n",
       " -0.016178574413061142,\n",
       " -0.0211850143969059,\n",
       " 0.01866268552839756,\n",
       " 0.006624298170208931,\n",
       " -0.018446123227477074,\n",
       " -0.007783550303429365,\n",
       " -0.01265623141080141]"
      ]
     },
     "execution_count": 20,
     "metadata": {},
     "output_type": "execute_result"
    }
   ],
   "source": [
    "result[1]['m.taglineEmbedding'][:10]"
   ]
  },
  {
   "cell_type": "code",
   "execution_count": 21,
   "id": "221af96b-63ce-4a95-8d23-47f9aa8c3a4e",
   "metadata": {
    "height": 30
   },
   "outputs": [
    {
     "data": {
      "text/plain": [
       "1536"
      ]
     },
     "execution_count": 21,
     "metadata": {},
     "output_type": "execute_result"
    }
   ],
   "source": [
    "len(result[1]['m.taglineEmbedding'])"
   ]
  },
  {
   "cell_type": "code",
   "execution_count": 22,
   "id": "03365be1-4aaa-4440-bbc5-0df650fd9013",
   "metadata": {
    "height": 30
   },
   "outputs": [
    {
     "data": {
      "text/plain": [
       "'Welcome to the Real World'"
      ]
     },
     "execution_count": 22,
     "metadata": {},
     "output_type": "execute_result"
    }
   ],
   "source": [
    "result[0]['m.tagline']"
   ]
  },
  {
   "cell_type": "markdown",
   "id": "790b238d-9189-4111-962b-1bf3dfcdad05",
   "metadata": {},
   "source": [
    "### Similarity search\n",
    "- Calculate embedding for question\n",
    "- Identify matching movies based on similarity of question and `taglineEmbedding` vectors"
   ]
  },
  {
   "cell_type": "code",
   "execution_count": 13,
   "id": "5648d30a-ab89-4fa1-ad61-35bbb43ef102",
   "metadata": {
    "height": 30
   },
   "outputs": [],
   "source": [
    "question = \"What movies are about love?\""
   ]
  },
  {
   "cell_type": "code",
   "execution_count": 27,
   "id": "6b1bc582-fd8e-4a2f-8347-fb62cbfec1c2",
   "metadata": {
    "height": 353
   },
   "outputs": [
    {
     "data": {
      "text/plain": [
       "[{'movie.title': 'RescueDawn',\n",
       "  'movie.tagline': \"Based on the extraordinary true story of one man's fight for freedom\",\n",
       "  'round(score,3)': 0.9},\n",
       " {'movie.title': 'Cast Away',\n",
       "  'movie.tagline': 'At the edge of the world, his journey begins.',\n",
       "  'round(score,3)': 0.898},\n",
       " {'movie.title': 'Ninja Assassin',\n",
       "  'movie.tagline': 'Prepare to enter a secret world of assassins',\n",
       "  'round(score,3)': 0.888},\n",
       " {'movie.title': 'Joe Versus the Volcano',\n",
       "  'movie.tagline': 'A story of love, lava and burning desire.',\n",
       "  'round(score,3)': 0.887},\n",
       " {'movie.title': 'As Good as It Gets',\n",
       "  'movie.tagline': 'A comedy from the heart that goes for the throat.',\n",
       "  'round(score,3)': 0.886}]"
      ]
     },
     "execution_count": 27,
     "metadata": {},
     "output_type": "execute_result"
    }
   ],
   "source": [
    "kg.query(\"\"\"\n",
    "    WITH genai.vector.encode(\n",
    "        $question, \n",
    "        \"OpenAI\", \n",
    "        {\n",
    "          token: $openAiApiKey,\n",
    "          endpoint: $openAiEndpoint\n",
    "        }) AS question_embedding\n",
    "    CALL db.index.vector.queryNodes(\n",
    "        'movie_tagline_embeddings', \n",
    "        $top_k, \n",
    "        question_embedding\n",
    "        ) YIELD node AS movie, score\n",
    "    RETURN movie.title, movie.tagline, round(score,3)\n",
    "    \"\"\", \n",
    "    params={\"openAiApiKey\":OPENAI_API_KEY,\n",
    "            \"openAiEndpoint\": OPENAI_ENDPOINT,\n",
    "            \"question\": question,\n",
    "            \"top_k\": 5\n",
    "            })"
   ]
  },
  {
   "cell_type": "markdown",
   "id": "0d3c6eaa-aaea-4a03-b9f8-3c0ead98e83b",
   "metadata": {},
   "source": [
    "### Try for yourself: ask you own question!\n",
    "- Change the question below and run the graph query to find different movies"
   ]
  },
  {
   "cell_type": "code",
   "execution_count": 30,
   "id": "21b08047-0086-4291-8d62-fb646de330fa",
   "metadata": {
    "height": 30
   },
   "outputs": [],
   "source": [
    "question = \"What movies are about scifi?\""
   ]
  },
  {
   "cell_type": "code",
   "execution_count": 31,
   "id": "7cdc7751-dddf-46b8-a74b-3d7c5544748f",
   "metadata": {
    "height": 285
   },
   "outputs": [
    {
     "data": {
      "text/plain": [
       "[{'movie.title': 'Bicentennial Man',\n",
       "  'movie.tagline': \"One robot's 200 year journey to become an ordinary man.\",\n",
       "  'round(score, 4)': 0.8864},\n",
       " {'movie.title': 'Twister',\n",
       "  'movie.tagline': \"Don't Breathe. Don't Look Back.\",\n",
       "  'round(score, 4)': 0.8814},\n",
       " {'movie.title': 'RescueDawn',\n",
       "  'movie.tagline': \"Based on the extraordinary true story of one man's fight for freedom\",\n",
       "  'round(score, 4)': 0.8788},\n",
       " {'movie.title': 'Cast Away',\n",
       "  'movie.tagline': 'At the edge of the world, his journey begins.',\n",
       "  'round(score, 4)': 0.8765},\n",
       " {'movie.title': 'As Good as It Gets',\n",
       "  'movie.tagline': 'A comedy from the heart that goes for the throat.',\n",
       "  'round(score, 4)': 0.8745}]"
      ]
     },
     "execution_count": 31,
     "metadata": {},
     "output_type": "execute_result"
    }
   ],
   "source": [
    "kg.query(\"\"\"\n",
    "    WITH genai.vector.encode(\n",
    "        $question, \n",
    "        \"OpenAI\", \n",
    "        {\n",
    "          token: $openAiApiKey,\n",
    "          endpoint: $openAiEndpoint\n",
    "        }) AS question_embedding\n",
    "    CALL db.index.vector.queryNodes(\n",
    "        'movie_tagline_embeddings', \n",
    "        $top_k, \n",
    "        question_embedding\n",
    "        ) YIELD node AS movie, score\n",
    "    RETURN movie.title, movie.tagline, round(score, 4)\n",
    "    \"\"\", \n",
    "    params={\"openAiApiKey\":OPENAI_API_KEY,\n",
    "            \"openAiEndpoint\": OPENAI_ENDPOINT,\n",
    "            \"question\": question,\n",
    "            \"top_k\": 5\n",
    "            })"
   ]
  },
  {
   "cell_type": "code",
   "execution_count": null,
   "id": "1d6f7f88",
   "metadata": {
    "height": 30
   },
   "outputs": [],
   "source": []
  }
 ],
 "metadata": {
  "kernelspec": {
   "display_name": "Python 3 (ipykernel)",
   "language": "python",
   "name": "python3"
  },
  "language_info": {
   "codemirror_mode": {
    "name": "ipython",
    "version": 3
   },
   "file_extension": ".py",
   "mimetype": "text/x-python",
   "name": "python",
   "nbconvert_exporter": "python",
   "pygments_lexer": "ipython3",
   "version": "3.11.9"
  }
 },
 "nbformat": 4,
 "nbformat_minor": 5
}
